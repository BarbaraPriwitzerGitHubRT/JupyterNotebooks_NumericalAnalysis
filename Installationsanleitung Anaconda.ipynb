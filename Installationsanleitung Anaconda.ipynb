{
 "cells": [
  {
   "cell_type": "markdown",
   "metadata": {},
   "source": [
    "Installationsanleitung Anaconda\n",
    "--\n",
    "\n",
    "Für ein Jupyter Notebook benötigen Sie Python und Jupyter lokal installiert. Dann können Sie über Ihren Browser lokal ein Jupyter Notebook öffnen, das Text und Python Code enthält. Sie können so mit einem interaktiven Skript arbeiten.\n",
    "\n",
    "1. Um die Installation zu starten, klicken Sie auf folgenden Link: [Anaconda Distribution](https://www.anaconda.com/distribution/ \"Anaconda herunterladen\")\n",
    "\n",
    "  * Scrollen Sie runter bis zu der Überschrift **Anaconda 2019.10 for Windows Installer**:\n",
    "  ![](./Screenshots/ScreenshotDownload.jpg) \n",
    "  \n",
    "  * Klicken Sie auf den **Download** Button im rot markierten Bereich, um **Python 3.7** herunterzuladen.\n",
    "  [//]: <> (Um Bilder anzuzeigen, müssen diese in demselben Ordner des Jupyter Notebooks liegen)\n",
    "  &nbsp;\n",
    "  \n",
    "2. Nachdem der Installer vollständig heruntergeladen wurde, führen Sie ihn aus, um **Python 3.7** zu installieren.\n",
    "\n",
    "  * Während der Installation ist zu beachten die **PATH**-Funktion deaktiviert zu lassen.\n",
    "  \n",
    "  &nbsp;\n",
    "  \n",
    "3. Nachdem die Installation abgeschlossen ist, machen Sie sich mit einigen ersten Funktion von **Python** und **Jupyter** über folgenden Link: [Getting started with Anaconda](https://docs.anaconda.com/anaconda/user-guide/getting-started/ \"Erste Schritte\") vertraut.\n",
    "  "
   ]
  },
  {
   "cell_type": "code",
   "execution_count": null,
   "metadata": {},
   "outputs": [],
   "source": []
  }
 ],
 "metadata": {
  "kernelspec": {
   "display_name": "Python 3",
   "language": "python",
   "name": "python3"
  },
  "language_info": {
   "codemirror_mode": {
    "name": "ipython",
    "version": 3
   },
   "file_extension": ".py",
   "mimetype": "text/x-python",
   "name": "python",
   "nbconvert_exporter": "python",
   "pygments_lexer": "ipython3",
   "version": "3.7.4"
  }
 },
 "nbformat": 4,
 "nbformat_minor": 2
}
