{
 "cells": [
  {
   "cell_type": "code",
   "execution_count": 37,
   "metadata": {},
   "outputs": [],
   "source": [
    "%matplotlib inline \n",
    "import matplotlib.pyplot as plt \n",
    "import numpy as np\n",
    "import os, sys\n",
    "import pandas as pd\n",
    "from scipy.interpolate import lagrange\n",
    "from numpy.polynomial.polynomial import Polynomial\n",
    "from scipy.interpolate import CubicSpline \n",
    "\n",
    "#Achten Sie darauf, dass Sie im header dieses Templates den Ort der Datei angeben. / \n",
    "#Make sure that you specify the location of your file in the header of this Problem Sheet.\n",
    "\n",
    "os.chdir('C:\\\\Users\\\\your\\\\file\\\\path') #wählen Sie Ihr Verzeichnis / choose your folder\n",
    "\n",
    "#Im Falle von / In case of:\n",
    "#liefert das aktuelle Arbeitsverzeichnis, d.h. den Pfad des Verzeichnisses, unter dem das aktuelle Python-Skript läuft.\n",
    "#returns the current working directory, i.e. the path of the directory under which the current Python script runs\n",
    "\n",
    "#os.getcwd()\n",
    "\n",
    "#Tipp: Sollten Sie Daten im Codeblock vorher oder in dem aktuellen verändern, versichern Sie sich immer, dass im nächsten Block die \n",
    "#richtigen Daten übernommen werden. Sollten Sie unsicher sein, setzen Sie den jeweiligen Block zurück, indem Sie in dem Block \n",
    "#\"Strg+A\" und dann \"Strg+#\" drücken. Führen Sie nun den Code aus, wird der Output zurückgesetzt. \n",
    "#Um die \"#\" zu entfernen, drücken Sie im Code erneut \"Strg+A\" und dann \"Strg+#\".\n",
    "\n",
    "#Hint: If you should change data in the code-block before or in the current one, always make sure that in the next block the \n",
    "#correct data are transferred. If you are unsure, reset the respective block by clicking \n",
    "#\"Ctrl+A\" and then press \"Ctrl+#\" If you now execute the code, the output is reset. \n",
    "#To remove the \"#\" press \"Ctrl+A\" and then \" Ctrl+#\" again in the code."
   ]
  },
  {
   "cell_type": "markdown",
   "metadata": {},
   "source": [
    "\n",
    "<center><h1>Creating interpolation curves</h1></center>\n",
    "\n",
    "---\n",
    "\n",
    "\n",
    "<table>\n",
    "    <tr style = \"background: transparent;\">\n",
    "        <td style = \"text-align: justify;\">Dieses Template hilft Ihnen bei der Auswertung von Daten. Die Funktionen der kommenden Codeblocks sind wie folgt:\n",
    "        <ul>\n",
    "          <li>Einlesen (Mess) daten</li>\n",
    "          <li>Polynomiale Interpolation + graphische Darstellung</li>\n",
    "          <li>Fehlerabschätzung bei Kenntnis eines zusätzlichen Datenpunktes</li>\n",
    "          <li>Splineinterpolation + graphische Darstellung</li>\n",
    "        </ul>\n",
    "        </td>\n",
    "        <td style = \"text-align: justify; vertical-align: top; width: 50%;\">This template helps you to evaluate data. The functions of the upcoming code blocks are as follows:\n",
    "        <ul>\n",
    "          <li>read in (measurement) data</li>\n",
    "          <li>polynomial interpolation + graphical representation</li>\n",
    "          <li>error estimation when an additional data point is known</li>\n",
    "          <li>spline interpolation + graphical representation</li>\n",
    "        </ul>\n",
    "        </td>  \n",
    "    </tr>\n",
    "</table>\n"
   ]
  },
  {
   "cell_type": "markdown",
   "metadata": {},
   "source": [
    "<center><h3>for .csv data</h3></center>"
   ]
  },
  {
   "cell_type": "code",
   "execution_count": 70,
   "metadata": {},
   "outputs": [],
   "source": [
    "#nutzen Sie die pd.read_csv oder _table()-Funktion, um die gewünschte Datei einzulesen\n",
    "#use the pd.read_csv or _table() function to read the desired file\n",
    "\n",
    "data = pd.read_csv('your_file.csv', sep=',', na_values='?');\n",
    "\n",
    "#Schauen Sie sich an auf welche Art die Daten eingelesen wurden, um zu wissen Welche Spalten oder Zeilen Sie als arrays abspeichern.\n",
    "#Look at the way the data was read to know which columns or rows you are saving as arrays.\n",
    "\n",
    "data"
   ]
  },
  {
   "cell_type": "markdown",
   "metadata": {},
   "source": [
    "<center><h3>for .xlsx data</h3></center>"
   ]
  },
  {
   "cell_type": "code",
   "execution_count": 36,
   "metadata": {},
   "outputs": [],
   "source": [
    "# #Daten einlesen/ read in the data \n",
    "# #Nutzen Sie hierfür / use \"pd.read_excel('...xlsx', index_col = 0)\"\n",
    "\n",
    "# data = pd.read_excel('your_file.xlsx', index_col=0)\n",
    "# data"
   ]
  },
  {
   "cell_type": "markdown",
   "metadata": {},
   "source": [
    "---\n",
    "<center><h3>Transformation into an np array</h3></center>"
   ]
  },
  {
   "cell_type": "code",
   "execution_count": 69,
   "metadata": {},
   "outputs": [],
   "source": [
    "#Um später mit den Daten das lagrange Verfahren anzuwenden, übertragen Sie die Daten in np.arrays. \"...\".values.tolist() und np.asarray() helfen Ihnen dabei\n",
    "#To use the lagrange method with the data later, transfer the data into np.arrays. \"...\".values.tolist() and np.asarray() assist you in this\n",
    "\n",
    "data_array = data.values.tolist()\n",
    "npdata = np.asarray(data_array)\n",
    "x = npdata[:, 'column']#Schauen Sie sich vorher die Datei an, um richtig zu extrahieren. Vorher Anführungszeichen entfernen.\n",
    "y = npdata[:, 'column']#Look at the file first to extract correctly. Delete quotation marks before.\n",
    "\n",
    "x,y"
   ]
  },
  {
   "cell_type": "code",
   "execution_count": 68,
   "metadata": {},
   "outputs": [],
   "source": [
    "#Für den Fall, dass x und y den dtype = str haben. / In case x and y have the dtype = str. \n",
    "\n",
    "# x = np.float64(x)\n",
    "# y = np.float64(y)"
   ]
  },
  {
   "cell_type": "markdown",
   "metadata": {},
   "source": [
    "<center><h3>Langrange interpolation + graphical representation</h3></center>"
   ]
  },
  {
   "cell_type": "code",
   "execution_count": 67,
   "metadata": {},
   "outputs": [],
   "source": [
    "poly = lagrange(x, y)\n",
    "\n",
    "#np.round(Polynomial(poly).coef[::-1], decimals = 1)\n",
    "\n",
    "a = Polynomial(poly).coef[::-1]"
   ]
  },
  {
   "cell_type": "code",
   "execution_count": 66,
   "metadata": {},
   "outputs": [],
   "source": [
    "x_ln = np.linspace(x.min(), x.max(), 100)\n",
    "\n",
    "P = 0\n",
    "\n",
    "for i in range(a.size):\n",
    "    \n",
    "    P = P + a[i]*x_ln**i\n",
    "    \n",
    "plt.title('Figure 1: Langrange interpolation', loc='center')\n",
    "plt.plot(x_ln, P, x, y, 'o')\n",
    "plt.xlabel('x_ln', fontsize=16)\n",
    "plt.ylabel('P(x)', fontsize=16);"
   ]
  },
  {
   "cell_type": "markdown",
   "metadata": {},
   "source": [
    "<center><h3>Error of interpolation (in case of an additional point and an extra $x-value$)</h3></center>"
   ]
  },
  {
   "cell_type": "code",
   "execution_count": 65,
   "metadata": {},
   "outputs": [],
   "source": [
    "#np.append\n",
    "\n",
    "x_in = np.append(x, 11)\n",
    "\n",
    "y_in = np.append(y, 4)\n",
    "\n",
    "x_in, y_in"
   ]
  },
  {
   "cell_type": "code",
   "execution_count": 64,
   "metadata": {},
   "outputs": [],
   "source": [
    "#Error of polynomial interpolation\n",
    "\n",
    "def dividedDifferences(x_in, y_in): \n",
    "\n",
    "    x_in.shape #Wiedergabe der Länge des arrays in jeder Dimension. / \n",
    "    y_in.shape #Returns the length of the array in each dimension.\n",
    "\n",
    "    if (x_in.shape != y_in.shape) or (x_in.ndim != y_in.ndim) or (x_in.size == 1) or (y_in.size == 1):\n",
    "\n",
    "        print('Dimension und Länge (größer als eins) der arrays in jeder Dimension müssen gleich sein. / Dimension and length (bigger than one) of both arrays have to be identical')\n",
    "        \n",
    "    n = y_in.size #oder/or n = x_i.size / n entspricht der Länge des arrays / n comply with the length of the array\n",
    "     \n",
    "    pyramid = np.zeros([n, n]) #Erstellung einer nxn Matrix, gefüllt mit Nullen / production af a 5x5 matrix full of zeros\n",
    "    \n",
    "    pyramid[::, 0] = y_in #in die erste Spalte wird y_i eingetragen / first column of our new matrix is y_in\n",
    "    \n",
    "    #Die pyramid Matrix wird nun mit Werten gefüllt (entsprechend der Tabelle in 1.3.11) / The pyramid matrix is filled with values (corresponding to the table in 1.3.11)\n",
    "    \n",
    "    for i in range(1,n):\n",
    "        \n",
    "        for j in range(n-i):\n",
    "            \n",
    "            pyramid[j][i] = (pyramid[j+1][i-1] - pyramid[j][i-1]) / (x_in[j+i] - x_in[j]) \n",
    "    \n",
    "    return pyramid #In der ersten Zeile der pyramid Matrix befinden sich die gesuchten Koeffizienten. / In the first row of the pyramid matrix you will find your Newton coefficients.\n",
    "\n",
    "coeff = dividedDifferences(x_in, y_in)\n",
    "\n",
    "# def newton_error(x_in, X):\n",
    "    \n",
    "#     n = x_in.size\n",
    "#     N = np.ones(x_in.size-1) \n",
    "#     N_i = N.tolist()\n",
    "    \n",
    "#     for i in range(n-1): #Der neue x-Wert wird nicht mitgerechnet (siehe 1.3.16). / The further x-value is not part of the calculation. (see 1.3.16)\n",
    "        \n",
    "#         N_i[i] = N_i[i-1]*(X-x_in[i])\n",
    "        \n",
    "#     return N_i[-1]*coeff[0][-1]\n",
    "# print('Error:', newton_error(x_in, 4))\n",
    "\n",
    "#Lösung mit Rekursion\n",
    "\n",
    "def newton_error(x_in, X, i=0, value=1):\n",
    "    \n",
    "    value *= (X - x_in[i])\n",
    "    \n",
    "    if i == x_in.size - 2: return value\n",
    "    \n",
    "    return newton_error(x_in, X, i=i + 1, value=value) \n",
    "\n",
    "print('Error:', newton_error(x_in, 4)*coeff[0][-1])"
   ]
  },
  {
   "cell_type": "markdown",
   "metadata": {},
   "source": [
    "<center><h3>Spline interpolation + graphical interpolation (make sure you use the arrays without the additional point)</h3></center>"
   ]
  },
  {
   "cell_type": "code",
   "execution_count": 63,
   "metadata": {},
   "outputs": [],
   "source": [
    "if (x.shape != y.shape) or (x.ndim != y.ndim) or (x.size == 1) or (y.size == 1):\n",
    "\n",
    "        print('Dimension und Länge (größer als eins) der arrays in jeder Dimension müssen gleich sein. / Dimension and length (bigger than one) of both arrays have to be identical')\n",
    "        \n",
    "else: #Wichtig bei der Anwendung von CubicSpline ist, dass die Werte aufsteigend sortiert sind. / Implementation of the CubicSpline function requires an ascending order of the values.\n",
    "    \n",
    "        \n",
    "        mask_sort = np.argsort(x)\n",
    "        y_sort = y[mask_sort]\n",
    "        x_sort = np.sort(x)\n",
    "            \n",
    "        if y_sort[0] == y_sort[-1]: print('Entferne das \"#\" bei ps, um die Bedingung periodic zu aktivieren. / Remove \"#\" in front of ps to activate the periodic condition')\n",
    "\n",
    "        ks = CubicSpline(x_sort, y_sort, bc_type='not-a-knot')\n",
    "        #ps = CubicSpline(x_sort, y_sort, bc_type='periodic') #Für die Bedingung periodic muss der erste und letzte y-Wert gleich sein. / For the periodic condition the first and last have to be the same.\n",
    "        cs = CubicSpline(x_sort, y_sort, bc_type='clamped')\n",
    "        ns = CubicSpline(x_sort, y_sort, bc_type='natural')\n",
    "\n",
    "        xs = np.linspace(x_sort[0], x_sort[-1], 101)\n",
    "        plt.figure(figsize=(10, 8))\n",
    "        plt.plot(x_sort, y_sort, 'o', label='data')\n",
    "\n",
    "        plt.xlabel('x_sort', fontsize=16)\n",
    "        plt.ylabel('y_sort', fontsize=16)\n",
    "        \n",
    "        #Um das Verhalten der Ableitungen zu untersuchen, entfernen Sie den hashtag bei der jeweiligen Bedingung und tippen Sie eine Zahl, um den Grad der Ableitung zu bestimmen. Zum Beispiel verhält sich die zweite Ableitung linear, weil es sich um cubic splines handelt /\n",
    "        #To analyse the behaviour of the conditions remove the hashtag below the specific condition and type a number for the order of the derivative. For example the second derivative is linear, because those are cubic splines.\n",
    "\n",
    "        plt.plot(xs, ks(xs), label=\"not-a-knot\")\n",
    "        #plt.plot(xs, ks(xs, nu = 1), label=\"not-a-knot: nu-derivative\")\n",
    "\n",
    "        #plt.plot(xs, ps(xs), label=\"periodic\")\n",
    "        #plt.plot(xs, ps(xs, nu = 1), label=\"periodic: nu-derivative\")\n",
    "\n",
    "        plt.plot(xs, cs(xs), label=\"clamped\")\n",
    "        #plt.plot(xs, cs(xs, nu = 1), label=\"clamped: nu-derivative\")\n",
    "\n",
    "        plt.plot(xs, ns(xs), label=\"natural\")\n",
    "        #plt.plot(xs, ns(xs, nu = 1), label=\"natural: nu-derivative\")\n",
    "\n",
    "        #plt.yticks(np.arange(y_sort.min(), y_sort.max() + 0.5, 0.5))\n",
    "        #plt.ylim(y_sort.min() - 0.5, y_sort.max() + 0.5)\n",
    "        plt.xlim(x_sort[0] - 0.02, x_sort[-1] + 0.02)\n",
    "        plt.legend(loc='lower left', ncol=2)\n",
    "        plt.show()"
   ]
  },
  {
   "cell_type": "code",
   "execution_count": null,
   "metadata": {},
   "outputs": [],
   "source": []
  }
 ],
 "metadata": {
  "kernelspec": {
   "display_name": "Python 3",
   "language": "python",
   "name": "python3"
  },
  "language_info": {
   "codemirror_mode": {
    "name": "ipython",
    "version": 3
   },
   "file_extension": ".py",
   "mimetype": "text/x-python",
   "name": "python",
   "nbconvert_exporter": "python",
   "pygments_lexer": "ipython3",
   "version": "3.7.4"
  }
 },
 "nbformat": 4,
 "nbformat_minor": 2
}
