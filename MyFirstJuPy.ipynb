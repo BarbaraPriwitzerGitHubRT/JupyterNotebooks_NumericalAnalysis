{
 "cells": [
  {
   "cell_type": "code",
   "execution_count": 2,
   "metadata": {},
   "outputs": [
    {
     "name": "stdout",
     "output_type": "stream",
     "text": [
      "Hallo\n"
     ]
    }
   ],
   "source": [
    "print('Hallo')"
   ]
  },
  {
   "cell_type": "markdown",
   "metadata": {},
   "source": [
    "Arbeiten mit Jupyter Notebooks\n",
    "-----------------------------------------------\n",
    "\n",
    "\n",
    "Für ein Jupyter Notebook benötigen entweder Sie lokal installiert Python und Jupyter. Dann können Sie über Ihren Browser lokal ein Jupyter Notebook öffnen, das Text und Python Code enthält. Sie können so mit einem interaktiven Skript arbeiten.\n",
    "\n",
    "Oder  Sie nutzen Jupyter Notebooks ohne lokale Installation, dann können Sie Notebooks mittels mybinder.org öffnen. Dann führen Sie Code über einen Web-Kernel aus ohne über eine lokale Installation zu benötigen. Bei längerer Inaktivität (10 min) werden Sie vom Kernel getrennt. Dann können Sie über das Symbol sich wieder mit dem Kernel verbinden. GitHub ist ein Hosting Service für gemeinsame Software Entwicklung. Binder ist zusätzlich in der Lage, Code auszuführen.\n",
    "\n",
    "\n",
    "\n",
    "\\begin{align}\n",
    "\\dot{x} & = \\sigma(y-x) \\\\\n",
    "\\dot{y} & = \\rho x - y - xz \\\\\n",
    "\\dot{z} & = -\\beta z + xy\n",
    "\\end{align}\n"
   ]
  },
  {
   "cell_type": "markdown",
   "metadata": {},
   "source": [
    " The simplest way to connect two points is by straight lines. This is called linear interpolation: \n",
    "    \n",
    " The linear interpolation function $f$ for  $(x_i,y_i), i=1,\\dots,n$ is defined piecewise by\n",
    " $$\n",
    " f(x) = y_{i} + \\dfrac{y_{i+1}-y_i}{x_{i+1}-x_i}(x-x_i) \\ \\text{\\ for \\ } x\\in[x_{i},x_{i+1}]\n",
    " $$\n"
   ]
  },
  {
   "cell_type": "code",
   "execution_count": 4,
   "metadata": {},
   "outputs": [
    {
     "name": "stdout",
     "output_type": "stream",
     "text": [
      "2.23606797749979\n"
     ]
    }
   ],
   "source": [
    "import numpy as np\n",
    "print(np.sqrt(5))"
   ]
  },
  {
   "cell_type": "markdown",
   "metadata": {},
   "source": [
    " Linear interpolation was introduced by Isaac Newton, but already used since antiquity, e.g. for predicting the position of sun and moon.\n",
    "\\item  Linear interpolation is the most simple approach and it is used quite often.\n",
    "\\item Disadvantage: The  graph of $f$ is not smooth, i.e. $f$ is not differentiable.\n",
    "\\end{itemize}"
   ]
  },
  {
   "cell_type": "markdown",
   "metadata": {},
   "source": [
    "$e^{i\\pi} + 1 = 0$"
   ]
  },
  {
   "cell_type": "markdown",
   "metadata": {},
   "source": [
    "* Linear interpolation was introduced by Isaac Newton, but already used since antiquity, e.g. for predicting the position of sun and moon.\n",
    "* Linear interpolation is the most simple approach and it is used quite often.\n",
    "* Disadvantage: The  graph of $f$ is not smooth, i.e. $f$ is not differentiable.\n"
   ]
  },
  {
   "cell_type": "code",
   "execution_count": null,
   "metadata": {},
   "outputs": [],
   "source": []
  }
 ],
 "metadata": {
  "kernelspec": {
   "display_name": "Python 3",
   "language": "python",
   "name": "python3"
  },
  "language_info": {
   "codemirror_mode": {
    "name": "ipython",
    "version": 3
   },
   "file_extension": ".py",
   "mimetype": "text/x-python",
   "name": "python",
   "nbconvert_exporter": "python",
   "pygments_lexer": "ipython3",
   "version": "3.7.4"
  }
 },
 "nbformat": 4,
 "nbformat_minor": 2
}
