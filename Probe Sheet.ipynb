{
 "cells": [
  {
   "cell_type": "code",
   "execution_count": 1,
   "metadata": {},
   "outputs": [
    {
     "data": {
      "text/plain": [
       "array([-5.,  4., -7.,  2.,  3.])"
      ]
     },
     "execution_count": 1,
     "metadata": {},
     "output_type": "execute_result"
    }
   ],
   "source": [
    "%matplotlib inline \n",
    "import matplotlib.pyplot as plt \n",
    "import numpy as np\n",
    "from numpy.polynomial.polynomial import Polynomial\n",
    "from scipy.interpolate import lagrange\n",
    "x_i = np.array([0, 1, -1, 2])\n",
    "y_i = np.array([5, 2.5, 2.5, 1])\n",
    "\n",
    "poly = lagrange(x_i, y_i)\n",
    "\n",
    "Polynomial(poly).coef[::-1] #gibt das Polynom der Potenz x aufsteigend zurück"
   ]
  },
  {
   "cell_type": "code",
   "execution_count": 2,
   "metadata": {},
   "outputs": [
    {
     "data": {
      "text/plain": [
       "array([0, 1, 2, 3, 4])"
      ]
     },
     "execution_count": 2,
     "metadata": {},
     "output_type": "execute_result"
    }
   ],
   "source": [
    "l = np.arange(0, x_i.size) \n",
    "l"
   ]
  },
  {
   "cell_type": "code",
   "execution_count": 17,
   "metadata": {},
   "outputs": [
    {
     "data": {
      "image/png": "[encoded data removed]",
      "text/plain": [
       "<Figure size 576x576 with 1 Axes>"
      ]
     },
     "metadata": {
      "needs_background": "light"
     },
     "output_type": "display_data"
    }
   ],
   "source": [
    "from scipy.interpolate import CubicSpline\n",
    "import matplotlib.pyplot as plt\n",
    "x = np.array([-1, 0, 1, 2])\n",
    "y = np.array([2.5, 5, 2.5, 1])\n",
    "ks = CubicSpline(x, y, bc_type='not-a-knot')\n",
    "#ps = CubicSpline(x, y, bc_type='periodic')\n",
    "cs = CubicSpline(x, y, bc_type='clamped')\n",
    "ns = CubicSpline(x, y, bc_type='natural')\n",
    "xs = np.linspace(0, 3, 101)\n",
    "plt.figure(figsize=(8, 8))\n",
    "plt.plot(x, y, 'o', label='data')\n",
    "#plt.plot(xs, , label='true')\n",
    "plt.plot(xs, ks(xs), label=\"not-a-knot\")\n",
    "#plt.plot(xs, ps(xs), label=\"periodic\")\n",
    "plt.plot(xs, cs(xs), label=\"clamped\")\n",
    "plt.plot(xs, ns(xs), label=\"natural\")\n",
    "plt.xlim(-1.2, 2.2)\n",
    "plt.legend(loc='lower left', ncol=2)\n",
    "plt.show()"
   ]
  },
  {
   "cell_type": "code",
   "execution_count": 15,
   "metadata": {},
   "outputs": [
    {
     "data": {
      "text/plain": [
       "array([0.   , 0.031, 0.062, 0.093, 0.124, 0.155, 0.186, 0.217, 0.248,\n",
       "       0.279, 0.31 , 0.341, 0.372, 0.403, 0.434, 0.465, 0.496, 0.527,\n",
       "       0.558, 0.589, 0.62 , 0.651, 0.682, 0.713, 0.744, 0.775, 0.806,\n",
       "       0.837, 0.868, 0.899, 0.93 , 0.961, 0.992, 1.023, 1.054, 1.085,\n",
       "       1.116, 1.147, 1.178, 1.209, 1.24 , 1.271, 1.302, 1.333, 1.364,\n",
       "       1.395, 1.426, 1.457, 1.488, 1.519, 1.55 , 1.581, 1.612, 1.643,\n",
       "       1.674, 1.705, 1.736, 1.767, 1.798, 1.829, 1.86 , 1.891, 1.922,\n",
       "       1.953, 1.984, 2.015, 2.046, 2.077, 2.108, 2.139, 2.17 , 2.201,\n",
       "       2.232, 2.263, 2.294, 2.325, 2.356, 2.387, 2.418, 2.449, 2.48 ,\n",
       "       2.511, 2.542, 2.573, 2.604, 2.635, 2.666, 2.697, 2.728, 2.759,\n",
       "       2.79 , 2.821, 2.852, 2.883, 2.914, 2.945, 2.976, 3.007, 3.038,\n",
       "       3.069, 3.1  ])"
      ]
     },
     "execution_count": 15,
     "metadata": {},
     "output_type": "execute_result"
    }
   ],
   "source": [
    "x = np.arange(10)\n",
    "y = np.sin(x)\n",
    "cs = CubicSpline(x, y)\n",
    "xs = np.linspace(0, 3.1, 101)\n",
    "xs\n"
   ]
  },
  {
   "cell_type": "code",
   "execution_count": 295,
   "metadata": {},
   "outputs": [
    {
     "name": "stdout",
     "output_type": "stream",
     "text": [
      "mask_sort: [4 2 0 1 3] x_i_sort: [-2 -1  0  1  2] y_i_sort: [ -9 -15  -5  -3  39]\n",
      "Y an der Stelle X / Y in X = -4.3125\n"
     ]
    }
   ],
   "source": [
    "x_i = np.array([0, 1, -1, 2, -2])\n",
    "y_i = np.array([-5, -3, -15, 39, -9])\n",
    "\n",
    "\n",
    "def lagrange_interpolation(x_i, y_i, X): #hier Funktionsbefehl einfügen\n",
    "    \n",
    "    x_i.shape #Wiedergabe der Länge des arrays in jeder Dimension. / \n",
    "    y_i.shape #Returns the length of the array in each dimension.\n",
    "\n",
    "    if (x_i.shape != y_i.shape) or (x_i.ndim != y_i.ndim) or (x_i.size == 1) or (y_i.size == 1):\n",
    "\n",
    "        print('Dimension und Länge der arrays in jeder Dimension müssen gleich sein. / Dimension and length of both arrays have to be identical')\n",
    "        \n",
    "        \n",
    "    mask_sort = np.argsort(x_i) #gibt die Indexe des arrays in einer aufsteigend geordneten Reihenfolge zurück / returns ascending ordered indices of the array\n",
    "    y_i_sort = y_i[mask_sort] #mithilfe dieser Maske werden die Werte von y den Indexen von x entsprechend geordnet / y values ordered according to indices of x\n",
    "    x_i_sort = np.sort(x_i) #x Werte werden aufsteigend geordnet\n",
    "\n",
    "    print('mask_sort:',mask_sort, 'x_i_sort:', x_i_sort, 'y_i_sort:', y_i_sort)\n",
    "\n",
    "    if (X < x_i_sort[0]) or (X > x_i_sort[-1]):\n",
    "        #Gewähltes 'X' muss innerhalb des x-arrays liegen. [-1] gibt das letzte Element eines arrays an.\n",
    "        #Chosen 'X' has to be in the range of our x-array. [-1] returns the last element of an array.\n",
    "        \n",
    "        print('X muss innerhalb des x-arrays liegen. / X must be a value within the range of x.')\n",
    "        \n",
    "\n",
    "    \n",
    "    l = range(0, x_i.size) \n",
    "    L = np.ones(x_i.size)\n",
    "    L_i = L.tolist()\n",
    "    \n",
    "    for i in l:\n",
    "        \n",
    "        L_i[i]\n",
    "        \n",
    "        for j in l: \n",
    "            \n",
    "            if i == j: continue \n",
    "            \n",
    "            else:\n",
    "                \n",
    "                L_i[i]= L_i[i]*(X-x_i[j])/(x_i[i]-x_i[j])\n",
    "    \n",
    "    Y = 0\n",
    "\n",
    "    for i in l:\n",
    "        \n",
    "        Y = Y + y_i[i] * L_i[i]\n",
    "        \n",
    "    return Y\n",
    "\n",
    "\n",
    "print('Y an der Stelle X / Y in X =', lagrange_interpolation(x_i, y_i, 0.5))\n"
   ]
  },
  {
   "cell_type": "code",
   "execution_count": 25,
   "metadata": {},
   "outputs": [
    {
     "data": {
      "image/png": "[encoded data removed]",
      "text/plain": [
       "<Figure size 432x288 with 1 Axes>"
      ]
     },
     "metadata": {
      "needs_background": "light"
     },
     "output_type": "display_data"
    }
   ],
   "source": [
    "X = 1.5\n",
    "Y = lagrange_interpolation(x_i, y_i, X)\n",
    "x = np.linspace(-5, 5)\n",
    "P = (-5+4*x-7*x**2+2*x**3+3*x**4)\n",
    "plt.title('Figure 1.3: Polynomial interpolation', loc='center')\n",
    "plt.plot(x, P)\n",
    "plt.scatter(X, Y, color='red')\n",
    "plt.xlabel('x', fontsize=16)\n",
    "plt.ylabel('P(x)', fontsize=16)\n",
    "plt.ylim(-20, 45);"
   ]
  },
  {
   "cell_type": "markdown",
   "metadata": {},
   "source": [
    "\n",
    "<div class=\"display: flex; align-items: center; justify-content: flex-start;\">\n",
    "    <table style=\"font-size: 14px; margin: 12px 0 0 0; font-family: serif;\">\n",
    "        <tr style=\"background: transparent;\">\n",
    "            <th style=\"text-align: left; border-right: 1px solid #000000; border-bottom: 1px solid #000000;\">$i$</th>\n",
    "            <th style=\"text-align: left; border-right: 1px solid #000000; border-bottom: 1px solid #000000;\">$x_i$</th>\n",
    "            <th style=\"text-align: center; border-right: 1px solid #000000; border-bottom: 1px solid #000000; width: 72px;\">$y_i$</th>\n",
    "             <th style=\"border-right: 1px solid #000000; border-bottom: 1px solid #000000; width: 4px; padding: 0;\"></th>\n",
    "            <th style=\"text-align: center; border-right: 1px solid #000000; border-bottom: 1px solid #000000; width: 150px\">$[x_{1} x_0]$</th>\n",
    "            <th style=\"text-align: center; border-right: 1px solid #000000; border-bottom: 1px solid #000000; width: 110px;\">$[x_{2} x_{1} x_0]$</th>\n",
    "            <th style=\"text-align: center; border-right: 1px solid #000000; border-bottom: 1px solid #000000; width: 120px\">$[x_{3} x_{2} x_{1} x_0]$</th>\n",
    "            <th style=\"text-align: left; border-right: 1px solid #000000; border-bottom: 1px solid #000000;\">$[x_4 x_{3} x_{2} x_{1} x_0]$</th>\n",
    "        </tr>\n",
    "        <tr style=\"background: transparent; width: 24px;\">\n",
    "            <td style=\"text-align: left; border-right: 1px solid #000000;\">0</td>\n",
    "            <td style=\"text-align: center; border-right: 1px solid #000000; \">0</td>\n",
    "            <td style=\"text-align: left; border-right: 1px solid #000000; \">$-5 = a_0$</td>\n",
    "            <td style=\"text-align: left; border-right: 1px solid #000000; width: 4px; padding: 0;\"></td>\n",
    "            <td style=\"text-align: left; border-right: 1px solid #000000; \"></td>\n",
    "            <td style=\"text-align: left; border-right: 1px solid #000000; \"></td>\n",
    "            <td style=\"text-align: left; border-right: 1px solid #000000;\"></td>\n",
    "            <td style=\"text-align: left; border-right: 1px solid #000000;\"></td>\n",
    "        </tr>\n",
    "        <tr style=\"background: transparent;\">\n",
    "            <td style=\"text-align: left; border-right: 1px solid #000000;\"></td>\n",
    "            <td style=\"text-align: center; border-right: 1px solid #000000; \"></td>\n",
    "            <td style=\"text-align: center; border-right: 1px solid #000000; \"></td>\n",
    "            <td style=\"text-align: left; border-right: 1px solid #000000;width: 4px; padding: 0; \"></td>\n",
    "            <td style=\"font-size: 13px; text-align: left; border-right: 1px solid #000000; \">$$\\frac{-3-(-5)}{1-0}=2=a_1$$</td>\n",
    "            <td style=\"text-align: left; border-right: 1px solid #000000; \"></td>\n",
    "            <td style=\"text-align: left; border-right: 1px solid #000000;\"></td>\n",
    "            <td style=\"text-align: left; border-right: 1px solid #000000;\"></td>\n",
    "        </tr>\n",
    "        <tr style=\"background: transparent;\">\n",
    "            <td style=\"text-align: center; border-right: 1px solid #000000;\">1</td>\n",
    "            <td style=\"text-align: center; border-right: 1px solid #000000; width: 4px; padding: 0;\">1</td>\n",
    "            <td style=\"text-align: center; border-right: 1px solid #000000;\">-3</td>\n",
    "            <td style=\"text-align: left; border-right: 1px solid #000000; width: 4px; padding: 0;\"></td>\n",
    "            <td style=\"text-align: left; border-right: 1px solid #000000;\"></td>\n",
    "            <td style=\"text-align: left; border-right: 1px solid #000000;\">$$-4 = a_2$$</td>\n",
    "            <td style=\"text-align: left; border-right: 1px solid #000000;\"></td>\n",
    "            <td style=\"text-align: left; border-right: 1px solid #000000;\"></td>\n",
    "        </tr>\n",
    "        <tr style=\"background: transparent;\">\n",
    "            <td style=\"text-align: left; border-right: 1px solid #000000;\"></td>\n",
    "            <td style=\"text-align: center; border-right: 1px solid #000000; \"></td>\n",
    "            <td style=\"text-align: center; border-right: 1px solid #000000; \"></td>\n",
    "            <td style=\"text-align: left; border-right: 1px solid #000000;width: 4px; padding: 0; \"></td>\n",
    "            <td style=\"font-size: 12px; text-align: left; border-right: 1px solid #000000; \">$$\\frac{-15-(-3)}{-1-1}=6$$</td>\n",
    "            <td style=\"text-align: left; border-right: 1px solid #000000; \"></td>\n",
    "            <td style=\"text-align: center; border-right: 1px solid #000000;\">$8 = a_3$</td>\n",
    "            <td style=\"text-align: left; border-right: 1px solid #000000;\"></td>\n",
    "        </tr>\n",
    "       <tr style=\"background: transparent;\">\n",
    "            <td style=\"text-align: left; border-right: 1px solid #000000;\">2</td>\n",
    "            <td style=\"text-align: center; border-right: 1px solid #000000; width: 4px; padding: 0;\">-1</td>\n",
    "            <td style=\"text-align: center; border-right: 1px solid #000000;\">-15</td>\n",
    "            <td style=\"text-align: left; border-right: 1px solid #000000;width: 4px; padding: 0;\"></td>\n",
    "            <td style=\"text-align: left; border-right: 1px solid #000000;\"></td>\n",
    "            <td style=\"text-align: center; border-right: 1px solid #000000;\">12</td>\n",
    "            <td style=\"text-align: left; border-right: 1px solid #000000;\"></td>\n",
    "           <td style=\"text-align: left; border-right: 1px solid #000000;\">$$\\frac{25}{4} = a_4$$</td>\n",
    "        </tr>\n",
    "        <tr style=\"background: transparent;\">\n",
    "            <td style=\"text-align: left; border-right: 1px solid #000000;\"></td>\n",
    "            <td style=\"text-align: center; border-right: 1px solid #000000; \"></td>\n",
    "            <td style=\"text-align: center; border-right: 1px solid #000000; \"></td>\n",
    "            <td style=\"text-align: left; border-right: 1px solid #000000;width: 4px; padding: 0; \"></td>\n",
    "            <td style=\"font-size: 12px; text-align: left; border-right: 1px solid #000000; \">$$\\frac{39-(-15)}{2-(-1)}=18$$</td>\n",
    "            <td style=\"text-align: left; border-right: 1px solid #000000; \"></td>\n",
    "            <td style=\"text-align: left; border-right: 1px solid #000000;\">$$-\\frac{9}{2}$$</td>\n",
    "            <td style=\"text-align: left; border-right: 1px solid #000000;\"></td>\n",
    "        </tr>\n",
    "        <tr style=\"background: transparent; width: 24px;\">\n",
    "            <td style=\"text-align: left; border-right: 1px solid #000000;\">3</td>\n",
    "            <td style=\"text-align: center; border-right: 1px solid #000000; \">2</td>\n",
    "            <td style=\"text-align: center; border-right: 1px solid #000000; \">39</td>\n",
    "            <td style=\"text-align: left; border-right: 1px solid #000000;width: 4px; padding: 0; \"></td>\n",
    "            <td style=\"text-align: left; border-right: 1px solid #000000; \"></td>\n",
    "            <td style=\"text-align: left; border-right: 1px solid #000000; \">$$\\frac{51}{2}$$</td>\n",
    "            <td style=\"text-align: left; border-right: 1px solid #000000;\"></td>\n",
    "            <td style=\"text-align: left; border-right: 1px solid #000000;\"></td>\n",
    "        </tr>\n",
    "        <tr style=\"background: transparent;\">\n",
    "            <td style=\"text-align: left; border-right: 1px solid #000000;\"></td>\n",
    "            <td style=\"text-align: center; border-right: 1px solid #000000; \"></td>\n",
    "            <td style=\"text-align: center; border-right: 1px solid #000000; \"></td>\n",
    "            <td style=\"text-align: left; border-right: 1px solid #000000;width: 4px; padding: 0; \"></td>\n",
    "            <td style=\"font-size: 12px; text-align: left; border-right: 1px solid #000000; \">$$\\frac{-9-(-39)}{-2-2}=-\\frac{15}{2}$$</td>\n",
    "            <td style=\"text-align: left; border-right: 1px solid #000000; \"></td>\n",
    "            <td style=\"text-align: left; border-right: 1px solid #000000;\"></td>\n",
    "            <td style=\"text-align: left; border-right: 1px solid #000000;\"></td>\n",
    "        </tr>\n",
    "        <tr style=\"background: transparent; width: 24px;\">\n",
    "            <td style=\"text-align: left; border-right: 1px solid #000000;\">4</td>\n",
    "            <td style=\"text-align: center; border-right: 1px solid #000000; \">-2</td>\n",
    "            <td style=\"text-align: center; border-right: 1px solid #000000; \">-9</td>\n",
    "            <td style=\"text-align: left; border-right: 1px solid #000000;width: 4px; padding: 0; \"></td>\n",
    "            <td style=\"text-align: left; border-right: 1px solid #000000; \"></td>\n",
    "            <td style=\"text-align: left; border-right: 1px solid #000000; \"></td>\n",
    "            <td style=\"text-align: left; border-right: 1px solid #000000;\"></td>\n",
    "            <td style=\"text-align: left; border-right: 1px solid #000000;\"></td>\n",
    "        </tr>\n",
    "    </table>\n",
    "</div>\n",
    " \n"
   ]
  },
  {
   "cell_type": "code",
   "execution_count": 258,
   "metadata": {},
   "outputs": [],
   "source": [
    "# x = np.array([0, 1, -1, 2, -2])\n",
    "# y = np.array([-5, -3, -15, 39, -9])\n",
    "\n",
    "# def divided(x, y):\n",
    "\n",
    "# #     0 1 = 1 0 - 0 0 / x1 - x0   \n",
    "# #     1 1 = 2 0 - 1 0 / x2 - x1  \n",
    "# #     2 1 = 3 0 - 2 0 / x3 - x2  \n",
    "# #     3 1 = 4 0 - 3 0 / x4 - x3\n",
    "\n",
    "# #     0 2 = 1 1 - 0 1 / x2 - x0  \n",
    "# #     1 2 = 2 1 - 1 1 / x3 - x1  \n",
    "# #     2 2 = 3 1 - 2 1 / x4 - x2\n",
    "\n",
    "# #     0 3 = 1 2 - 0 2 / x3 - x0 \n",
    "# #     1 3 = 2 2 - 1 2 / x4 - x1\n",
    "\n",
    "# #     0 4 = 1 3 - 0 3 / x4 - x0\n",
    "\n",
    "\n",
    "#     size = y.size\n",
    "\n",
    "#     p = np.zeros([size, size])\n",
    "    \n",
    "#     p[::, 0] = y\n",
    "\n",
    "#     for i in range(1, size):\n",
    "#         for j in range(size - i):\n",
    "            \n",
    "#             p[j][i] = (p[j + 1][i - 1] - p[j][i - 1]) / (x[j + i] - x[j])\n",
    "            \n",
    "# #             print(j, i, '=', j + 1, i - 1, '-', j, i - 1, '/', 'x' + str(j + i), '-', 'x' + str(j))\n",
    "            \n",
    "# #         print()\n",
    "        \n",
    "#     return p\n",
    "             \n",
    "# result = divided(x, y)\n",
    "\n",
    "# print(result[0])\n",
    "# print(result)\n"
   ]
  },
  {
   "cell_type": "code",
   "execution_count": 2,
   "metadata": {
    "scrolled": true
   },
   "outputs": [
    {
     "data": {
      "image/png": "[encoded data removed]",
      "text/plain": [
       "<Figure size 576x576 with 1 Axes>"
      ]
     },
     "metadata": {
      "needs_background": "light"
     },
     "output_type": "display_data"
    }
   ],
   "source": [
    "x_org = np.linspace(-1, 1, 201)\n",
    "x_6 = np.linspace(-1, 1, 6)\n",
    "x_10 = np.linspace(-1, 1, 10)\n",
    "x_14 = np.linspace(-1, 1, 14)\n",
    "\n",
    "#nur mit der 25 als Koeffizient entsteht das gewünschte Bild\n",
    "\n",
    "y_org = (1/(1+25*x_org**2))\n",
    "y_6 = (1/(1+25*x_6**2))\n",
    "y_10 = (1/(1+25*x_10**2))\n",
    "y_14 = (1/(1+25*x_14**2))\n",
    "\n",
    "\n",
    "plt.figure(figsize=(8,8))\n",
    "plt.title('Figure 1.5: Runge`s phenomenon', loc='center')\n",
    "plt.plot(x_org, y_org, color = 'black', linewidth = 1, label = r'original function');\n",
    "plt.xticks(np.arange(-1,1.2,0.2))\n",
    "poly = lagrange(x_6, y_6)\n",
    "y_interp = poly(x_org)\n",
    "plt.plot(x_org, y_interp, color = 'blue', lw = 1, label = r'6 interpolation points')\n",
    "\n",
    "poly = lagrange(x_10, y_10)\n",
    "y_interp = poly(x_org)\n",
    "plt.plot(x_org, y_interp, color = 'red', lw = 1, label = r'10 interpolation points')\n",
    "\n",
    "poly = lagrange(x_14, y_14)\n",
    "y_interp = poly(x_org)\n",
    "plt.plot(x_org, y_interp, color = 'green', lw = 1, label = r'14 interpolation points')\n",
    "\n",
    "plt.scatter(x_6, y_6, color='blue', marker = '+', s = 8**2)\n",
    "plt.scatter(x_10, y_10, color='red', marker = '+', s = 8**2)\n",
    "plt.scatter(x_14, y_14, color='green', marker = '+', s = 8**2)\n",
    "\n",
    "plt.xlim(-1.01, 1.01);\n",
    "plt.ylim(-1.5, 1.2);\n",
    "\n",
    "plt.legend(loc='lower center');"
   ]
  },
  {
   "cell_type": "code",
   "execution_count": 91,
   "metadata": {},
   "outputs": [
    {
     "data": {
      "text/plain": [
       "array([-1.00000000e+00, -8.00000000e-01, -6.00000000e-01, -4.00000000e-01,\n",
       "       -2.00000000e-01, -2.22044605e-16,  2.00000000e-01,  4.00000000e-01,\n",
       "        6.00000000e-01,  8.00000000e-01])"
      ]
     },
     "execution_count": 91,
     "metadata": {},
     "output_type": "execute_result"
    }
   ],
   "source": [
    "np.arange(-1, 1, 0.2)"
   ]
  },
  {
   "cell_type": "code",
   "execution_count": 86,
   "metadata": {},
   "outputs": [],
   "source": [
    "plt.xscale??"
   ]
  },
  {
   "cell_type": "code",
   "execution_count": 252,
   "metadata": {},
   "outputs": [],
   "source": [
    "n = np.shape(x_i)[0] #erste Reihe\n",
    "#p = np.zeros([n, n])\n",
    "#p[::,0] = y_i\n",
    "#y_i\n",
    "#p #erste Klammer Zeile, zweite Klammer Spalte"
   ]
  },
  {
   "cell_type": "code",
   "execution_count": 59,
   "metadata": {},
   "outputs": [
    {
     "name": "stdout",
     "output_type": "stream",
     "text": [
      "[-5.  2. -4.  8.  3.]\n"
     ]
    }
   ],
   "source": [
    "x_i = np.array([0, 1, -1, 2, -2])\n",
    "y_i = np.array([-5, -3, -15, 39, -9])\n",
    "\n",
    "def dividedDifferences(x_i, y_i): \n",
    "\n",
    "    x_i.shape #Wiedergabe der Länge des arrays in jeder Dimension. / \n",
    "    y_i.shape #Returns the length of the array in each dimension.\n",
    "\n",
    "    if (x_i.shape != y_i.shape) or (x_i.ndim != y_i.ndim) or (x_i.size == 1) or (y_i.size == 1):\n",
    "\n",
    "        print('Dimension und Länge der arrays in jeder Dimension müssen gleich sein. / Dimension and length of both arrays have to be identical')\n",
    "        \n",
    "    n = y_i.size #oder/or n = x_i.size / n entspricht der Länge des arrays / n comply with the length of the array\n",
    "     \n",
    "    pyramid = np.zeros([n, n]) #Erstellung einer 5x5 Matrix, gefüllt mit Nullen / production af a 5x5 matrix full of zeros\n",
    "    \n",
    "    pyramid[::, 0] = y_i #in die erste Spalte wird y_i eingetragen / first column of our new matrix is y_i\n",
    "    \n",
    "    #Die pyramid Matrix wird nun mit Werten gefüllt (entsprechend der Tabelle in 1.3.11) / The pyramid matrix is filled with values (corresponding to the table in 1.3.11)\n",
    "    \n",
    "    for i in range(1,n):\n",
    "        \n",
    "        for j in range(n-i):\n",
    "            \n",
    "            pyramid[j][i] = (pyramid[j+1][i-1] - pyramid[j][i-1]) / (x_i[j+i] - x_i[j])\n",
    "    \n",
    "    #print(pyramid) \n",
    "    \n",
    "    return pyramid #In der ersten Zeile der pyramid Matrix befinden sich die gesuchten Koeffizienten. / In the first row of the pyramid matrix you will find your Newton coefficients.\n",
    "\n",
    "coeff = dividedDifferences(x_i, y_i)\n",
    "\n",
    "print(coeff[0])\n"
   ]
  },
  {
   "cell_type": "code",
   "execution_count": 316,
   "metadata": {},
   "outputs": [
    {
     "data": {
      "text/plain": [
       "-3"
      ]
     },
     "execution_count": 316,
     "metadata": {},
     "output_type": "execute_result"
    }
   ],
   "source": [
    "x_i = np.array([0, 1, -1, 2, -2])\n",
    "y_i = np.array([-5, -3, -15, 39, -9])\n",
    "a = np.array([1,2,3,4,5])\n",
    "\n",
    "\n",
    "x_i.shape #Wiedergabe der Länge des arrays in jeder Dimension. / \n",
    "y_i.shape #Returns the length of the array in each dimension.\n",
    "\n",
    "b=x_i*a\n",
    "sum(b)"
   ]
  },
  {
   "cell_type": "code",
   "execution_count": 170,
   "metadata": {},
   "outputs": [
    {
     "data": {
      "text/plain": [
       "4"
      ]
     },
     "execution_count": 170,
     "metadata": {},
     "output_type": "execute_result"
    }
   ],
   "source": [
    "l = np.arange(0, x_i.size) \n",
    "n = l[-1]    \n",
    "l[1:]"
   ]
  },
  {
   "cell_type": "code",
   "execution_count": 171,
   "metadata": {},
   "outputs": [
    {
     "data": {
      "text/plain": [
       "5"
      ]
     },
     "execution_count": 171,
     "metadata": {},
     "output_type": "execute_result"
    }
   ],
   "source": [
    "np.shape(y_i)[0]"
   ]
  },
  {
   "cell_type": "code",
   "execution_count": 174,
   "metadata": {},
   "outputs": [
    {
     "data": {
      "text/plain": [
       "array([[ -5.,   0.,   0.,   0.,   0.],\n",
       "       [ -3.,   0.,   0.,   0.,   0.],\n",
       "       [-15.,   0.,   0.,   0.,   0.],\n",
       "       [ 39.,   0.,   0.,   0.,   0.],\n",
       "       [ -9.,   0.,   0.,   0.,   0.]])"
      ]
     },
     "execution_count": 174,
     "metadata": {},
     "output_type": "execute_result"
    }
   ],
   "source": [
    "# pyramid[::, 0] = y_i\n",
    "# y_i\n",
    "# p"
   ]
  },
  {
   "cell_type": "code",
   "execution_count": 266,
   "metadata": {},
   "outputs": [
    {
     "data": {
      "text/plain": [
       "5"
      ]
     },
     "execution_count": 266,
     "metadata": {},
     "output_type": "execute_result"
    }
   ],
   "source": [
    "z = np.array([[0, 1, -1, 2, -2],[-5, -3, -15, 39, -9]])\n",
    "z.shape[1]"
   ]
  },
  {
   "cell_type": "code",
   "execution_count": 217,
   "metadata": {},
   "outputs": [],
   "source": [
    "range?"
   ]
  },
  {
   "cell_type": "code",
   "execution_count": 288,
   "metadata": {},
   "outputs": [
    {
     "data": {
      "text/plain": [
       "array([0, 1, 2, 3])"
      ]
     },
     "execution_count": 288,
     "metadata": {},
     "output_type": "execute_result"
    }
   ],
   "source": [
    "x_i = np.array([0, 1, -1, 2, -2])\n",
    "y_i = np.array([-5, -3, -15, 39, -9])\n",
    "n = np.arange(x_i.size-1) \n",
    "n"
   ]
  },
  {
   "cell_type": "code",
   "execution_count": 63,
   "metadata": {},
   "outputs": [
    {
     "name": "stdout",
     "output_type": "stream",
     "text": [
      "Y an der Stelle X / Y in X = -4.223699999999999\n"
     ]
    }
   ],
   "source": [
    "#Newton interpolation\n",
    "\n",
    "x_i = np.array([0, 1, -1, 2, -2])\n",
    "y_i = np.array([-5, -3, -15, 39, -9])\n",
    "\n",
    "\n",
    "def newton_interpolation(x_i, y_i, X): \n",
    "\n",
    "    x_i.shape #Wiedergabe der Länge des arrays in jeder Dimension. / \n",
    "    y_i.shape #Returns the length of the array in each dimension.\n",
    "\n",
    "    if (x_i.shape != y_i.shape) or (x_i.ndim != y_i.ndim) or (x_i.size == 1) or (y_i.size == 1):\n",
    "\n",
    "        print('Dimension und Länge (größer als eins) der arrays in jeder Dimension müssen gleich sein. / Dimension and length (bigger than one) of both arrays have to be identical')\n",
    "        \n",
    "        \n",
    "    mask_sort = np.argsort(x_i) #gibt die Indexe des arrays in einer aufsteigend geordneten Reihenfolge zurück / returns ascending ordered indices of the array\n",
    "    y_i_sort = y_i[mask_sort] #mithilfe dieser Maske werden die Werte von y den Indexen von x entsprechend geordnet / y values ordered according to indices of x\n",
    "    x_i_sort = np.sort(x_i) #x Werte werden aufsteigend geordnet\n",
    "\n",
    "    #print('mask_sort:',mask_sort, 'x_i_sort:', x_i_sort, 'y_i_sort:', y_i_sort)\n",
    "\n",
    "    if (X < x_i_sort[0]) or (X > x_i_sort[-1]):\n",
    "        #Gewähltes 'X' muss innerhalb des x-arrays liegen. [-1] gibt das letzte Element eines arrays an.\n",
    "        #Chosen 'X' has to be in the range of our x-array. [-1] returns the last element of an array.\n",
    "        \n",
    "        print('X muss innerhalb des x-arrays liegen. / X must be a value within the range of x.')\n",
    "        \n",
    "        return\n",
    "    \n",
    "    n = x_i.size #Erstellung eines Arrays mit der Länge von x_i für die for Schleife. / Creation of an array with the length of x_i to be used in the for loop.\n",
    "    N = np.ones(x_i.size) #Array mit fünf 1en. / Array containing five ones.\n",
    "    N_i = N.tolist() #Umwandlung des oberen Arrays, um den Inhalt verändern zu können. / Transformation of the array above so you are able to change its content.\n",
    "    \n",
    "    \n",
    "    for i in range(1, n):\n",
    "        \n",
    "        for j in range((i-1)+1):\n",
    "            \n",
    "            N_i[i] = N_i[i]*(X-x_i[j]) #Siehe Newton basis. / See Newton basis.\n",
    "            \n",
    "            \n",
    "    Y = np.zeros(x_i.size)\n",
    "    \n",
    "    for i in range(n):\n",
    "        \n",
    "        Y[i] = dividedDifferences(x_i, y_i)[0][i] * N_i[i] #einzelne Koeffizienten raussortieren\n",
    "        \n",
    "    return sum(Y) #Gesuchter y-Wert an der vorgebenen Stelle X / Wanted y-value at specified X\n",
    "\n",
    "\n",
    "print('Y an der Stelle X / Y in X =', newton_interpolation(x_i, y_i, 0.7))\n"
   ]
  },
  {
   "cell_type": "code",
   "execution_count": 19,
   "metadata": {},
   "outputs": [
    {
     "ename": "NameError",
     "evalue": "name 'L' is not defined",
     "output_type": "error",
     "traceback": [
      "\u001b[1;31m---------------------------------------------------------------------------\u001b[0m",
      "\u001b[1;31mNameError\u001b[0m                                 Traceback (most recent call last)",
      "\u001b[1;32m<ipython-input-19-74b86493b241>\u001b[0m in \u001b[0;36m<module>\u001b[1;34m\u001b[0m\n\u001b[0;32m      1\u001b[0m \u001b[0mn\u001b[0m \u001b[1;33m=\u001b[0m \u001b[0mrange\u001b[0m\u001b[1;33m(\u001b[0m\u001b[0mx_i\u001b[0m\u001b[1;33m.\u001b[0m\u001b[0msize\u001b[0m\u001b[1;33m)\u001b[0m \u001b[1;31m#Erstellung eines Arrays mit der Länge von x_i für die for Schleife. / Creation of an array with the length of x_i to be used in the for loop.\u001b[0m\u001b[1;33m\u001b[0m\u001b[1;33m\u001b[0m\u001b[0m\n\u001b[0;32m      2\u001b[0m \u001b[0mN\u001b[0m \u001b[1;33m=\u001b[0m \u001b[0mnp\u001b[0m\u001b[1;33m.\u001b[0m\u001b[0mones\u001b[0m\u001b[1;33m(\u001b[0m\u001b[0mx_i\u001b[0m\u001b[1;33m.\u001b[0m\u001b[0msize\u001b[0m\u001b[1;33m)\u001b[0m \u001b[1;31m#Array mit fünf 1en. / Array containing five ones.\u001b[0m\u001b[1;33m\u001b[0m\u001b[1;33m\u001b[0m\u001b[0m\n\u001b[1;32m----> 3\u001b[1;33m \u001b[0mN_i\u001b[0m \u001b[1;33m=\u001b[0m \u001b[0mL\u001b[0m\u001b[1;33m.\u001b[0m\u001b[0mtolist\u001b[0m\u001b[1;33m(\u001b[0m\u001b[1;33m)\u001b[0m \u001b[1;31m#Umwandlung des oberen Arrays, um den Inhalt verändern zu können. / Transformation of the array above so you are able to change its content.\u001b[0m\u001b[1;33m\u001b[0m\u001b[1;33m\u001b[0m\u001b[0m\n\u001b[0m\u001b[0;32m      4\u001b[0m \u001b[1;33m\u001b[0m\u001b[0m\n\u001b[0;32m      5\u001b[0m \u001b[1;32mfor\u001b[0m \u001b[0mi\u001b[0m \u001b[1;32min\u001b[0m \u001b[0mn\u001b[0m\u001b[1;33m:\u001b[0m\u001b[1;33m\u001b[0m\u001b[1;33m\u001b[0m\u001b[0m\n",
      "\u001b[1;31mNameError\u001b[0m: name 'L' is not defined"
     ]
    }
   ],
   "source": [
    "n = range(x_i.size) #Erstellung eines Arrays mit der Länge von x_i für die for Schleife. / Creation of an array with the length of x_i to be used in the for loop.\n",
    "N = np.ones(x_i.size) #Array mit fünf 1en. / Array containing five ones.\n",
    "N_i = L.tolist() #Umwandlung des oberen Arrays, um den Inhalt verändern zu können. / Transformation of the array above so you are able to change its content.\n",
    "    \n",
    "for i in n:\n",
    "\n",
    "    for j in range(i-1):\n",
    "\n",
    "            N_i[i]= N_i[i]*(3-x_i[j])\n",
    "\n",
    "            print(N_i[i], '=', i, '*', 'X-', j, '/', 'x'+str(i), '-', 'x' + str(j))"
   ]
  },
  {
   "cell_type": "code",
   "execution_count": 322,
   "metadata": {},
   "outputs": [
    {
     "ename": "IndexError",
     "evalue": "invalid index to scalar variable.",
     "output_type": "error",
     "traceback": [
      "\u001b[1;31m---------------------------------------------------------------------------\u001b[0m",
      "\u001b[1;31mIndexError\u001b[0m                                Traceback (most recent call last)",
      "\u001b[1;32m<ipython-input-322-8f1e8bc7e0ff>\u001b[0m in \u001b[0;36m<module>\u001b[1;34m\u001b[0m\n\u001b[0;32m      3\u001b[0m \u001b[1;31m#     a =coeff[0][i]\u001b[0m\u001b[1;33m\u001b[0m\u001b[1;33m\u001b[0m\u001b[1;33m\u001b[0m\u001b[0m\n\u001b[0;32m      4\u001b[0m \u001b[1;31m#     print(a)\u001b[0m\u001b[1;33m\u001b[0m\u001b[1;33m\u001b[0m\u001b[1;33m\u001b[0m\u001b[0m\n\u001b[1;32m----> 5\u001b[1;33m \u001b[0mprint\u001b[0m\u001b[1;33m(\u001b[0m\u001b[0mcoeff\u001b[0m\u001b[1;33m[\u001b[0m\u001b[1;36m0\u001b[0m\u001b[1;33m]\u001b[0m\u001b[1;33m[\u001b[0m\u001b[1;36m1\u001b[0m\u001b[1;33m]\u001b[0m\u001b[1;33m)\u001b[0m\u001b[1;33m\u001b[0m\u001b[1;33m\u001b[0m\u001b[0m\n\u001b[0m",
      "\u001b[1;31mIndexError\u001b[0m: invalid index to scalar variable."
     ]
    }
   ],
   "source": [
    "# n = range(5)\n",
    "# for i in n:\n",
    "#     a =coeff[0][i]\n",
    "#     print(a)\n",
    "print(coeff[0][1])    "
   ]
  },
  {
   "cell_type": "code",
   "execution_count": 98,
   "metadata": {},
   "outputs": [
    {
     "name": "stdout",
     "output_type": "stream",
     "text": [
      "-9.84375\n"
     ]
    }
   ],
   "source": [
    "x_i = np.array([0, 1, -1, 2, -2])\n",
    "n = x_i.size\n",
    "N = np.ones(x_i.size) #Array mit fünf 1en. / Array containing five ones.\n",
    "N_i = N.tolist() \n",
    "\n",
    "def newton_error(x_i, X):\n",
    "    \n",
    "    N = np.ones(x_i.size)\n",
    "    N_i = N.tolist()\n",
    "    \n",
    "    for i in range(n):\n",
    "        \n",
    "        N_i[i] = N_i[i-1]*(X-x_i[i])\n",
    "        \n",
    "    return N_i[-1]*coeff[0][-1]\n",
    "\n",
    "print(newton_error(x_i, 1.5))\n",
    "\n"
   ]
  },
  {
   "cell_type": "code",
   "execution_count": null,
   "metadata": {},
   "outputs": [],
   "source": []
  }
 ],
 "metadata": {
  "kernelspec": {
   "display_name": "Python 3",
   "language": "python",
   "name": "python3"
  },
  "language_info": {
   "codemirror_mode": {
    "name": "ipython",
    "version": 3
   },
   "file_extension": ".py",
   "mimetype": "text/x-python",
   "name": "python",
   "nbconvert_exporter": "python",
   "pygments_lexer": "ipython3",
   "version": "3.7.4"
  }
 },
 "nbformat": 4,
 "nbformat_minor": 2
}
