{
 "cells": [
  {
   "cell_type": "code",
   "execution_count": 1,
   "metadata": {},
   "outputs": [],
   "source": [
    "%matplotlib inline \n",
    "import matplotlib.pyplot as plt \n",
    "import numpy as np\n",
    "\n",
    "#Tipp: Solltest Du Daten im Codeblock vorher oder in dem aktuellen verändern, versichere Dich immer, dass im nächsten Block die \n",
    "#richtigen Daten übernommen werden. Solltest Du Dir unsicher sein, setze den jeweiligen Block zurück, indem Du in dem Block \n",
    "#\"Strg+A\" und dann \"Strg+#\" drückst. Führst Du nun den Code aus, wird der Output zurückgesetzt. \n",
    "#Um die \"#\" zu entfernen drücke im Code erneut \"Strg+A\" und dann \"Strg+#\".\n",
    "\n",
    "#Hint: If you should change data in the code-block before or in the current one, always make sure that in the next block the \n",
    "#correct data are transferred. If you are unsure, reset the respective block by clicking \n",
    "#\"Ctrl+A\" and then press \"Ctrl+#\" If you now execute the code, the output is reset. \n",
    "#To remove the \"#\" press \"Ctrl+A\" and then \" Ctrl+#\" again in the code."
   ]
  },
  {
   "cell_type": "markdown",
   "metadata": {},
   "source": [
    "\n",
    "<center><h1>Problem Sheet 2 - Lagrange interpolation</h1></center>\n",
    "\n",
    "---\n",
    "\n",
    "### Aufgabe 1 / Task 1\n",
    "\n",
    "<table>\n",
    "    <tr style = \"background: transparent;\">\n",
    "        <td style = \"text-align: justify;\">Erneut besteht die Aufgabe darin den Pfad der Maschine zu bestimmen, doch dieses Mal mit einem anderen Verfahren.</td>\n",
    "        <td style = \"text-align: justify; vertical-align: top; width: 50%;\">As before, the task is to determine the path of the machine, but this time using a different method.</td>  \n",
    "    </tr>\n",
    "</table>\n",
    "\n",
    "<table>\n",
    "    <tr style = \"background: transparent;\">\n",
    "        <td style = \"text-align: justify; vertical-align: top;\"><b>a).</b> Um die Koordinaten der Punkte mit einem geeigneten Verfahren zu einem bestimmten Pfad zu verbinden, müssen diese vorher erst eingelesen. Nutze die \"pandas\" Funktion um die Daten erfolgreich einzulesen.</td>\n",
    "        <td style = \"text-align: justify; vertical-align: top; width: 50%;\"><b>a).</b> In order to connect the coordinates of the points with a suitable method to a certain path, they must first be read in. Use the \"pandas\" function to read the data successfully in.</td>  \n",
    "    </tr>\n",
    "</table>\n"
   ]
  },
  {
   "cell_type": "code",
   "execution_count": 6,
   "metadata": {},
   "outputs": [],
   "source": [
    "#um die pandas Funktion zu nutzen, müssen zunächst diese und zwei weitere Module importiert werden.\n",
    "#to use the pandas function, you must first import this and two other modules.\n",
    "\n",
    "import os, sys\n",
    "import pandas as pd\n",
    "\n",
    "#verbinde zunächste das richtige Verzeichnis, aus welchem Du Daten einlesen möchtest.\n",
    "#first connect the correct folder from which you want to read data.\n",
    "\n",
    "os.chdir('C:\\\\Users\\\\Kz_Ga\\\\Desktop\\\\Maschinenbau Master\\\\2. Semester\\\\FuE\\\\Materialien')\n",
    "\n",
    "#achte darauf, dass zwischen den Ordern jeweils zweimal der backslash vorhanden ist\n",
    "#make sure that the backslash is present twice between each folder.\n",
    "\n",
    "#nutze die pd.read_csv oder _table()-Funktion, um die gewünschte Datei einzulesen\n",
    "#use the pd.read_csv or _table() function to read the desired file\n",
    "\n",
    "data = pd.read_csv('path_coordinates.csv', sep=',', na_values='?');\n",
    "data\n",
    "\n",
    "#Um später mit den Daten das lagrange Verfahren anzuwenden, übertrage die Daten in np.arrays. \"...\".values.tolist() und np.asarray() helfen Dir dabei\n",
    "#To use the lagrange method with the data later, transfer the data into np.arrays. \"...\".values.tolist() and np.asarray() assist you in this\n",
    "\n",
    "data_array = data.values.tolist()\n",
    "npdata= np.asarray(data_array)\n",
    "x_in = npdata[:, 0]\n",
    "y_in = npdata[:, 1]"
   ]
  },
  {
   "cell_type": "markdown",
   "metadata": {},
   "source": [
    "<table>\n",
    "    <tr style = \"background: transparent;\">\n",
    "        <td style = \"text-align: justify; vertical-align: top;\"><b>b).</b> Nachdem Du die Koordinaten der Punkte eingelesen hast, wende die Funktion \"Polynomial\" an, um die Koeffizienten des Lagrange Polynoms zu bestimmen. Sorge daraufhin dafür, dass diese Koeffizienten in einer Funktion verbaut, geplottet werden.</td>\n",
    "        <td style = \"text-align: justify; vertical-align: top; width: 50%;\"><b>b).</b> After you have read the coordinates of the points in, apply the \"Polynomial\" function to determine the coefficients of the Lagrange polynomial. Then, make sure that these coefficients are plotted in a function.</td>  \n",
    "    </tr>\n",
    "</table>"
   ]
  },
  {
   "cell_type": "code",
   "execution_count": 7,
   "metadata": {},
   "outputs": [],
   "source": [
    "from scipy.interpolate import lagrange #Gibt das Lagrange Polynom aus. / Return a Lagrange interpolating polynomial.\n",
    "from numpy.polynomial.polynomial import Polynomial #Gibt die Koeffizienten des Langrange Polynoms in einem array zurück. / Return the coefficients of the lagrange polynom.\n",
    "\n",
    "poly = lagrange(x_in, y_in)\n",
    "\n",
    "#np.round(Polynomial(poly).coef[::-1], decimals = 1)\n",
    "\n",
    "a = Polynomial(poly).coef[::-1]\n",
    "\n",
    "# for i in range(a.size):\n",
    "    \n",
    "#     print(a[i])\n"
   ]
  },
  {
   "cell_type": "code",
   "execution_count": 5,
   "metadata": {},
   "outputs": [],
   "source": [
    "x = np.linspace(x_in.min(), x_in.max(), 100)\n",
    "\n",
    "P = 0\n",
    "\n",
    "for i in range(a.size):\n",
    "    \n",
    "    P = P + a[i]*x**i\n",
    "    \n",
    "plt.title('Figure 1: Langrange path', loc='center')\n",
    "plt.plot(x, P, x_in, y_in, 'o')\n",
    "plt.xlabel('x', fontsize=16)\n",
    "plt.ylabel('P(x)', fontsize=16);"
   ]
  },
  {
   "cell_type": "code",
   "execution_count": null,
   "metadata": {},
   "outputs": [],
   "source": []
  }
 ],
 "metadata": {
  "kernelspec": {
   "display_name": "Python 3",
   "language": "python",
   "name": "python3"
  },
  "language_info": {
   "codemirror_mode": {
    "name": "ipython",
    "version": 3
   },
   "file_extension": ".py",
   "mimetype": "text/x-python",
   "name": "python",
   "nbconvert_exporter": "python",
   "pygments_lexer": "ipython3",
   "version": "3.7.4"
  }
 },
 "nbformat": 4,
 "nbformat_minor": 2
}
