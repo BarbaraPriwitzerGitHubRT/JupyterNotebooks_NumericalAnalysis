{
 "cells": [
  {
   "cell_type": "code",
   "execution_count": 1,
   "metadata": {},
   "outputs": [],
   "source": [
    "%matplotlib inline \n",
    "import matplotlib.pyplot as plt \n",
    "import numpy as np\n",
    "\n",
    "#Tipp: Sollten Sie Daten im Codeblock vorher oder in dem aktuellen verändern, versichern Sie sich immer, dass im nächsten Block die \n",
    "#richtigen Daten übernommen werden. Sollten Sie unsicher sein, setzen Sie den jeweiligen Block zurück, indem Sie in dem Block \n",
    "#\"Strg+A\" und dann \"Strg+#\" drücken. Führen Sie nun den Code aus, wird der Output zurückgesetzt. \n",
    "#Um die \"#\" zu entfernen, drücken Sie im Code erneut \"Strg+A\" und dann \"Strg+#\".\n",
    "\n",
    "#Hint: If you should change data in the code-block before or in the current one, always make sure that in the next block the \n",
    "#correct data are transferred. If you are unsure, reset the respective block by clicking \n",
    "#\"Ctrl+A\" and then press \"Ctrl+#\" If you now execute the code, the output is reset. \n",
    "#To remove the \"#\" press \"Ctrl+A\" and then \" Ctrl+#\" again in the code."
   ]
  },
  {
   "cell_type": "markdown",
   "metadata": {},
   "source": [
    "\n",
    "<center><h1>Problem Sheet 3 - Newton interpolation</h1></center>\n",
    "\n",
    "---\n",
    "\n",
    "### Aufgabe 1 / Task 1\n",
    "\n",
    "<table>\n",
    "    <tr style = \"background: transparent;\">\n",
    "        <td style = \"text-align: justify;\">In einem weiteren Beispiel wurde das Newton Verfahren angewendet, um einen geeigneten Pfad zu finden. Am Ende des aktuellen Pfads wird ein weiterer Punkt hinzugefügt. Wie groß beträgt der Fehler des Pfads durch den zusätzlichen Punkt ungefähr in der Mitte des Pfads ($x = 4$)?</td>\n",
    "        <td style = \"text-align: justify; vertical-align: top; width: 50%;\">In another example, the Newton method was used to find a suitable path. At the end of the current path another point is added. How big is the error of the path caused by the additional point about halfway down the path ($x = 4$)?</td>  \n",
    "    </tr>\n",
    "</table>\n",
    "\n",
    "<table>\n",
    "    <tr style = \"background: transparent;\">\n",
    "        <td style = \"text-align: justify; vertical-align: top;\"><b>a).</b> Rufen Sie zunächst, die Ihnen bereits bekannten Koordinaten der Punkte auf. Fügen Sie in einem weiteren Schritt mit der Funktion <a href=\"https://docs.scipy.org/doc/numpy/reference/generated/numpy.append.html\">\"numpy.append\"</a> den zusätzlichen Punkt $x_6 =11$ ; $y_6 = 4$ hinzu.</td>\n",
    "        <td style = \"text-align: justify; vertical-align: top; width: 50%;\"><b>a).</b> First call up the coordinates of the points you already know. In a further step add the additional point $x_6 = 11$ ; $y_6 = 4$ with the function <a href=\"https://docs.scipy.org/doc/numpy/reference/generated/numpy.append.html\">\"numpy.append\"</a>.</td>  \n",
    "    </tr>\n",
    "</table>\n"
   ]
  },
  {
   "cell_type": "code",
   "execution_count": 7,
   "metadata": {},
   "outputs": [],
   "source": [
    "import os, sys\n",
    "import pandas as pd\n",
    "\n",
    "#liefert das aktuelle Arbeitsverzeichnis, d.h. den Pfad des Verzeichnisses, unter dem das aktuelle Python-Skript läuft.\n",
    "#returns the current working directory, i.e. the path of the directory under which the current Python script runs\n",
    "\n",
    "os.getcwd()\n",
    "\n",
    "data = pd.read_csv('path_coordinates.csv', sep=',', na_values='?');\n",
    "data\n",
    "\n",
    "data_array = data.values.tolist()\n",
    "npdata= np.asarray(data_array)\n",
    "\n",
    "x_in = npdata[:, 0]\n",
    "y_in = npdata[:, 1]"
   ]
  },
  {
   "cell_type": "code",
   "execution_count": 6,
   "metadata": {},
   "outputs": [],
   "source": [
    "#np.append\n",
    "\n",
    "x_in = np.append(x_in, 11)\n",
    "\n",
    "y_in = np.append(y_in, 4)\n",
    "\n",
    "x_in, y_in"
   ]
  },
  {
   "cell_type": "markdown",
   "metadata": {},
   "source": [
    "<table>\n",
    "    <tr style = \"background: transparent;\">\n",
    "        <td style = \"text-align: justify;\"> <b>b).</b> Nun wenden Sie, die Ihnen bereits bekannte Funktion zu \"Error of polynomial interpolation\" an, um den Fehler zu berechnen.</td>\n",
    "        <td style = \"text-align: justify; vertical-align: top; width: 50%;\"> <b>b).</b> Now apply the function you already know as \"Error of polynomial interpolation\" to calculate the error.</td>\n",
    "    </tr>\n",
    "</table>"
   ]
  },
  {
   "cell_type": "code",
   "execution_count": 5,
   "metadata": {},
   "outputs": [],
   "source": [
    "#Error of polynomial interpolation\n",
    "\n",
    "def dividedDifferences(x_in, y_in): \n",
    "\n",
    "    x_in.shape #Wiedergabe der Länge des arrays in jeder Dimension. / \n",
    "    y_in.shape #Returns the length of the array in each dimension.\n",
    "\n",
    "    if (x_in.shape != y_in.shape) or (x_in.ndim != y_in.ndim) or (x_in.size == 1) or (y_in.size == 1):\n",
    "\n",
    "        print('Dimension und Länge (größer als eins) der arrays in jeder Dimension müssen gleich sein. / Dimension and length (bigger than one) of both arrays have to be identical')\n",
    "        \n",
    "    n = y_in.size #oder/or n = x_i.size / n entspricht der Länge des arrays / n comply with the length of the array\n",
    "     \n",
    "    pyramid = np.zeros([n, n]) #Erstellung einer nxn Matrix, gefüllt mit Nullen / production af a 5x5 matrix full of zeros\n",
    "    \n",
    "    pyramid[::, 0] = y_in #in die erste Spalte wird y_i eingetragen / first column of our new matrix is y_in\n",
    "    \n",
    "    #Die pyramid Matrix wird nun mit Werten gefüllt (entsprechend der Tabelle in 1.3.11) / The pyramid matrix is filled with values (corresponding to the table in 1.3.11)\n",
    "    \n",
    "    for i in range(1,n):\n",
    "        \n",
    "        for j in range(n-i):\n",
    "            \n",
    "            pyramid[j][i] = (pyramid[j+1][i-1] - pyramid[j][i-1]) / (x_in[j+i] - x_in[j]) \n",
    "    \n",
    "    return pyramid #In der ersten Zeile der pyramid Matrix befinden sich die gesuchten Koeffizienten. / In the first row of the pyramid matrix you will find your Newton coefficients.\n",
    "\n",
    "coeff = dividedDifferences(x_in, y_in)\n",
    "\n",
    "# def newton_error(x_in, X):\n",
    "    \n",
    "#     n = x_in.size\n",
    "#     N = np.ones(x_in.size-1) \n",
    "#     N_i = N.tolist()\n",
    "    \n",
    "#     for i in range(n-1): #Der neue x-Wert wird nicht mitgerechnet (siehe 1.3.16). / The further x-value is not part of the calculation. (see 1.3.16)\n",
    "        \n",
    "#         N_i[i] = N_i[i-1]*(X-x_in[i])\n",
    "        \n",
    "#     return N_i[-1]*coeff[0][-1]\n",
    "# print('Error:', newton_error(x_in, 4))\n",
    "\n",
    "#Lösung mit Rekursion\n",
    "\n",
    "def newton_error(x_in, X, i=0, value=1):\n",
    "    \n",
    "    value *= (X - x_in[i])\n",
    "    \n",
    "    if i == x_in.size - 2: return value\n",
    "    \n",
    "    return newton_error(x_in, X, i=i + 1, value=value) \n",
    "\n",
    "print('Error:', newton_error(x_in, 4)*coeff[0][-1])"
   ]
  },
  {
   "cell_type": "code",
   "execution_count": null,
   "metadata": {},
   "outputs": [],
   "source": []
  }
 ],
 "metadata": {
  "kernelspec": {
   "display_name": "Python 3",
   "language": "python",
   "name": "python3"
  },
  "language_info": {
   "codemirror_mode": {
    "name": "ipython",
    "version": 3
   },
   "file_extension": ".py",
   "mimetype": "text/x-python",
   "name": "python",
   "nbconvert_exporter": "python",
   "pygments_lexer": "ipython3",
   "version": "3.7.4"
  }
 },
 "nbformat": 4,
 "nbformat_minor": 2
}
