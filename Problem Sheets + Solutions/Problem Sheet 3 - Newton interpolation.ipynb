{
 "cells": [
  {
   "cell_type": "code",
   "execution_count": 1,
   "metadata": {},
   "outputs": [],
   "source": [
    "%matplotlib inline \n",
    "import matplotlib.pyplot as plt \n",
    "import numpy as np\n",
    "\n",
    "#Tipp: Sollten Sie Daten im Codeblock vorher oder in dem aktuellen verändern, versichern Sie sich immer, dass im nächsten Block die \n",
    "#richtigen Daten übernommen werden. Sollten Sie unsicher sein, setzen Sie den jeweiligen Block zurück, indem Sie in dem Block \n",
    "#\"Strg+A\" und dann \"Strg+#\" drücken. Führen Sie nun den Code aus, wird der Output zurückgesetzt. \n",
    "#Um die \"#\" zu entfernen, drücken Sie im Code erneut \"Strg+A\" und dann \"Strg+#\".\n",
    "\n",
    "#Hint: If you should change data in the code-block before or in the current one, always make sure that in the next block the \n",
    "#correct data are transferred. If you are unsure, reset the respective block by clicking \n",
    "#\"Ctrl+A\" and then press \"Ctrl+#\" If you now execute the code, the output is reset. \n",
    "#To remove the \"#\" press \"Ctrl+A\" and then \" Ctrl+#\" again in the code."
   ]
  },
  {
   "cell_type": "markdown",
   "metadata": {},
   "source": [
    "\n",
    "<center><h1>Problem Sheet 3 - Newton interpolation</h1></center>\n",
    "\n",
    "---\n",
    "\n",
    "### Aufgabe 1 / Task 1\n",
    "\n",
    "<table>\n",
    "    <tr style = \"background: transparent;\">\n",
    "        <td style = \"text-align: justify;\">In einem weiteren Beispiel wurde das Newton Verfahren angewendet, um einen geeigneten Pfad zu finden. Am Ende des aktuellen Pfads wird ein weiterer Punkt hinzugefügt. Wie groß beträgt der Fehler des Pfads durch den zusätzlichen Punkt ungefähr in der Mitte des Pfads ($x = 4$)?</td>\n",
    "        <td style = \"text-align: justify; vertical-align: top; width: 50%;\">In another example, the Newton method was used to find a suitable path. At the end of the current path another point is added. How big is the error of the path caused by the additional point about halfway down the path ($x = 4$)?</td>  \n",
    "    </tr>\n",
    "</table>\n",
    "\n",
    "<table>\n",
    "    <tr style = \"background: transparent;\">\n",
    "        <td style = \"text-align: justify; vertical-align: top;\"><b>a).</b> Rufen Sie zunächst, die Ihnen bereits bekannten Koordinaten der Punkte auf. Fügen Sie in einem weiteren Schritt mit der Funktion <a href=\"https://docs.scipy.org/doc/numpy/reference/generated/numpy.append.html\">\"numpy.append\"</a> den zusätzlichen Punkt $x_6 =11$ ; $y_6 = 4$ hinzu.</td>\n",
    "        <td style = \"text-align: justify; vertical-align: top; width: 50%;\"><b>a).</b> First call up the coordinates of the points you already know. In a further step add the additional point $x_6 = 11$ ; $y_6 = 4$ with the function <a href=\"https://docs.scipy.org/doc/numpy/reference/generated/numpy.append.html\">\"numpy.append\"</a>.</td>  \n",
    "    </tr>\n",
    "</table>\n"
   ]
  },
  {
   "cell_type": "code",
   "execution_count": 7,
   "metadata": {},
   "outputs": [],
   "source": [
    "import os, sys\n",
    "import pandas as pd\n",
    "\n",
    "# #liefert das aktuelle Arbeitsverzeichnis, d.h. den Pfad des Verzeichnisses, unter dem das aktuelle Python-Skript läuft.\n",
    "# #returns the current working directory, i.e. the path of the directory under which the current Python script runs\n",
    "\n",
    "os.getcwd()\n",
    "\n"
   ]
  },
  {
   "cell_type": "code",
   "execution_count": 6,
   "metadata": {},
   "outputs": [],
   "source": [
    "#np.append\n",
    "\n"
   ]
  },
  {
   "cell_type": "markdown",
   "metadata": {},
   "source": [
    "<table>\n",
    "    <tr style = \"background: transparent;\">\n",
    "        <td style = \"text-align: justify;\"> <b>b).</b> Nun wenden Sie, die Ihnen bereits bekannte Funktion zu \"Error of polynomial interpolation\" an, um den Fehler zu berechnen.</td>\n",
    "        <td style = \"text-align: justify; vertical-align: top; width: 50%;\"> <b>b).</b> Now apply the function you already know as \"Error of polynomial interpolation\" to calculate the error.</td>\n",
    "    </tr>\n",
    "</table>"
   ]
  },
  {
   "cell_type": "code",
   "execution_count": 5,
   "metadata": {},
   "outputs": [],
   "source": [
    "#Error of polynomial interpolation\n",
    "\n"
   ]
  }
 ],
 "metadata": {
  "kernelspec": {
   "display_name": "Python 3",
   "language": "python",
   "name": "python3"
  },
  "language_info": {
   "codemirror_mode": {
    "name": "ipython",
    "version": 3
   },
   "file_extension": ".py",
   "mimetype": "text/x-python",
   "name": "python",
   "nbconvert_exporter": "python",
   "pygments_lexer": "ipython3",
   "version": "3.7.4"
  }
 },
 "nbformat": 4,
 "nbformat_minor": 2
}
