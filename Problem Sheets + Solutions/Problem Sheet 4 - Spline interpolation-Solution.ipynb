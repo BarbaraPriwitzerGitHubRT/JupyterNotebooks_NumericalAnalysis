{
 "cells": [
  {
   "cell_type": "code",
   "execution_count": 1,
   "metadata": {},
   "outputs": [],
   "source": [
    "%matplotlib inline \n",
    "import matplotlib.pyplot as plt \n",
    "import numpy as np\n",
    "import os, sys\n",
    "import pandas as pd\n",
    "os.chdir('C:\\\\Users\\\\Kz_Ga\\\\Desktop\\\\Maschinenbau Master\\\\2. Semester\\\\FuE\\\\Materialien') #wähle dein Verzeichnis / choose your folder\n",
    "#os.getcwd()\n",
    "\n",
    "#Tipp: Sollten Sie Daten im Codeblock vorher oder in dem aktuellen verändern, versichern Sie sich immer, dass im nächsten Block die \n",
    "#richtigen Daten übernommen werden. Sollten Sie unsicher sein, setzen Sie den jeweiligen Block zurück, indem Sie in dem Block \n",
    "#\"Strg+A\" und dann \"Strg+#\" drücken. Führen Sie nun den Code aus, wird der Output zurückgesetzt. \n",
    "#Um die \"#\" zu entfernen, drücken Sie im Code erneut \"Strg+A\" und dann \"Strg+#\".\n",
    "\n",
    "#Hint: If you should change data in the code-block before or in the current one, always make sure that in the next block the \n",
    "#correct data are transferred. If you are unsure, reset the respective block by clicking \n",
    "#\"Ctrl+A\" and then press \"Ctrl+#\" If you now execute the code, the output is reset. \n",
    "#To remove the \"#\" press \"Ctrl+A\" and then \" Ctrl+#\" again in the code."
   ]
  },
  {
   "cell_type": "markdown",
   "metadata": {},
   "source": [
    "\n",
    "<center><h1>Problem Sheet 4 - Spline interpolation</h1></center>\n",
    "\n",
    "---\n",
    "\n",
    "### Aufgabe 1 / Task 1\n",
    "\n",
    "<table>\n",
    "    <tr style = \"background: transparent;\">\n",
    "        <td style = \"text-align: justify;\">Im Folgenden wurde der Pfad mithilfe von Splines erstellt. Wie Sie aus dem Skript bereits festgestellt haben, gibt es verschiedene Bedingungen, die den Verlauf der Splines beeinflussen.</td>\n",
    "        <td style = \"text-align: justify; vertical-align: top; width: 50%;\">In the following, the path was created using splines. As you have already seen from the script, there are several conditions that affect the path of the splines.</td>  \n",
    "    </tr>\n",
    "</table>\n",
    "\n",
    "<table>\n",
    "    <tr style = \"background: transparent;\">\n",
    "        <td style = \"text-align: justify; vertical-align: top;\"><b>a).</b> Den Pfad anhand der Spline Interpolation finden Sie in <b>\"spline_path.xlsx\"</b>, rufen Sie diese auf und lesen Sie dort die zur Verfügung stehenden Daten ein. Versichern Sie sich erst, um welche Daten es sich hierbei handelt. Stellen Sie diese anschließend graphisch dar und versuchen Sie anschließend sich anhand der Koordinaten der Punkte dieser Darstellung mit einer Ihnen bekannten Bedingung anzunähern. Schreiben Sie hierfür einen Code.</td>\n",
    "        <td style = \"text-align: justify; vertical-align: top; width: 50%;\"><b>a).</b>The path using spline interpolation can be found in <b>\"spline_path.xlsx\"</b>, call it up and read in the available data there. First make sure which data is involved. Then display it graphically and then try to approach it using the coordinates of the points in this display with a condition that you know. Write a code for this.</td>  \n",
    "    </tr>\n",
    "</table>\n"
   ]
  },
  {
   "cell_type": "code",
   "execution_count": 10,
   "metadata": {},
   "outputs": [],
   "source": [
    "# Daten einlesen und nenne sie \"df1\"/ read in the data qnd call them \"df1\"\n",
    "# Nutze hierfür / use \"pd.read_csv('...csv')\"\n",
    "# Achte darauf, dass Du im header dieses Problem Sheets den Ort deiner Datei angibst. / Make sure that you specify the location of your file in the header of this Problem Sheet. \n",
    "\n",
    "#Dein Code / Your code:\n",
    "\n",
    "df1 = pd.read_csv('spline_path.csv')\n",
    "\n",
    "#Schau Dir an auf welche Art die Daten eingelesen wurden. / Take a look at how the data was read in.\n",
    "\n",
    "df1"
   ]
  },
  {
   "cell_type": "code",
   "execution_count": 11,
   "metadata": {},
   "outputs": [],
   "source": [
    "# #Nachdem du weißt wie die Daten gespeichert sind, trenne sie richtig, wandle sie in numpy.arrays um und weise ihnen eine Variable zu.\n",
    "\n",
    "df1array = df1.values.tolist()\n",
    "npdf1= np.asarray(df1)\n",
    "\n",
    "x = npdf1[:, 0]\n",
    "y = npdf1[:, 1]\n",
    "\n",
    "# #Plotte diese Dir bekannten Koordinaten ebenfalls. / Plot these coordinates you are already familiar with as well.\n",
    "\n",
    "x_in = np.array([ 2.  ,  4.25,  5.25,  7.81,  9.2 , 10.6 ])\n",
    "y_in = np.array([7.2, 7.1, 6. , 5. , 3.5, 5. ])\n",
    "\n",
    "# #plt.plot(... , ... , x_in, y_in, 'o')\n",
    "plt.plot(x,y, x_in, y_in, 'o');"
   ]
  },
  {
   "cell_type": "code",
   "execution_count": 9,
   "metadata": {},
   "outputs": [],
   "source": [
    "#Versuche nun eine geeignete Bedingung für die Koordinaten x_in und y_in zu finden, um den Pfad wie den darüberliegenden aussehen zu lassen.\n",
    "#Now try to find a suitable condition for the x_in and y_in coordinates to make the path look like the one above.\n",
    "\n",
    "from scipy.interpolate import CubicSpline \n",
    "\n",
    "x_in = np.array([ 2.  ,  4.25,  5.25,  7.81,  9.2 , 10.6 ])\n",
    "y_in = np.array([7.2, 7.1, 6. , 5. , 3.5, 5. ])\n",
    "\n",
    "if (x_in.shape != y_in.shape) or (x_in.ndim != y_in.ndim) or (x_in.size == 1) or (y_in.size == 1):\n",
    "\n",
    "        print('Dimension und Länge (größer als eins) der arrays in jeder Dimension müssen gleich sein. / Dimension and length (bigger than one) of both arrays have to be identical')\n",
    "        \n",
    "else: #Wichtig bei der Anwendung von CubicSpline ist, dass die Werte aufsteigend sortiert sind. / Implementation of the CubicSpline function requires an ascending order of the values.\n",
    "    \n",
    "        \n",
    "        mask_sort = np.argsort(x_in)\n",
    "        y_insort = y_in[mask_sort]\n",
    "        x_insort = np.sort(x_in)\n",
    "            \n",
    "        if y_insort[0] == y_insort[-1]: print('Entferne das \"#\" bei ps, um die Bedingung periodic zu aktivieren. / Remove \"#\" in front of ps to activate the periodic condition')\n",
    "\n",
    "        #Für die Bedingung periodic muss der erste und letzte y-Wert gleich sein. / For the periodic condition the first and last have to be the same.\n",
    "        cs = CubicSpline(x_insort, y_insort, bc_type='clamped')\n",
    "        \n",
    "\n",
    "        xs = np.linspace(x_insort[0], x_insort[-1], 101)\n",
    "        plt.figure(figsize=(10, 8))\n",
    "        plt.plot(x_insort, y_insort, 'o', label='data')\n",
    "\n",
    "        plt.xlabel('x_insort', fontsize=16)\n",
    "        plt.ylabel('y_insort', fontsize=16)\n",
    "        \n",
    "        #Um das Verhalten der Ableitungen zu untersuchen, entferne den hashtag bei der jeweiligen Bedingung und tippe eine Zahl, um den Grad der Ableitung zu bestimmen. Zum Beispiel verhält sich die zweite Ableitung linear, weil es sich um cubic splines handelt /\n",
    "        #To analyse the behaviour of the conditions remove the hashtag below the specific condition and type a number for the order of the derivative. For example the second derivative is linear, because those are cubic splines.\n",
    "\n",
    "        plt.plot(xs, cs(xs), label=\"clamped\")\n",
    "        #plt.plot(xs, cs(xs, nu = 1), label=\"clamped: nu-derivative\")\n",
    "\n",
    "        #plt.yticks(np.arange(y_insort.min(), y_insort.max() + 0.5, 0.5))\n",
    "        plt.ylim(y_insort.min() - 0.5, y_insort.max() + 1)\n",
    "        #plt.xlim(x_insort[0] - 0.02, x_insort[-1] + 0.02)\n",
    "        plt.legend(loc='lower left', ncol=2)\n",
    "        plt.show()"
   ]
  }
 ],
 "metadata": {
  "kernelspec": {
   "display_name": "Python 3",
   "language": "python",
   "name": "python3"
  },
  "language_info": {
   "codemirror_mode": {
    "name": "ipython",
    "version": 3
   },
   "file_extension": ".py",
   "mimetype": "text/x-python",
   "name": "python",
   "nbconvert_exporter": "python",
   "pygments_lexer": "ipython3",
   "version": "3.7.4"
  }
 },
 "nbformat": 4,
 "nbformat_minor": 2
}
