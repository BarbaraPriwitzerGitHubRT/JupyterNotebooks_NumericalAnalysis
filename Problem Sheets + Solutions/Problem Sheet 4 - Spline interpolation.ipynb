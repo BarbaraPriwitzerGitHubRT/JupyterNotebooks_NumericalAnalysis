{
 "cells": [
  {
   "cell_type": "code",
   "execution_count": 1,
   "metadata": {},
   "outputs": [],
   "source": [
    "%matplotlib inline \n",
    "import matplotlib.pyplot as plt \n",
    "import numpy as np\n",
    "import os, sys\n",
    "import pandas as pd\n",
    "os.getcwd()\n",
    "\n",
    "#Tipp: Sollten Sie Daten im Codeblock vorher oder in dem aktuellen verändern, versichern Sie sich immer, dass im nächsten Block die \n",
    "#richtigen Daten übernommen werden. Sollten Sie unsicher sein, setzen Sie den jeweiligen Block zurück, indem Sie in dem Block \n",
    "#\"Strg+A\" und dann \"Strg+#\" drücken. Führen Sie nun den Code aus, wird der Output zurückgesetzt. \n",
    "#Um die \"#\" zu entfernen, drücken Sie im Code erneut \"Strg+A\" und dann \"Strg+#\".\n",
    "\n",
    "#Hint: If you should change data in the code-block before or in the current one, always make sure that in the next block the \n",
    "#correct data are transferred. If you are unsure, reset the respective block by clicking \n",
    "#\"Ctrl+A\" and then press \"Ctrl+#\" If you now execute the code, the output is reset. \n",
    "#To remove the \"#\" press \"Ctrl+A\" and then \" Ctrl+#\" again in the code."
   ]
  },
  {
   "cell_type": "markdown",
   "metadata": {},
   "source": [
    "\n",
    "<center><h1>Problem Sheet 4 - Spline interpolation</h1></center>\n",
    "\n",
    "---\n",
    "\n",
    "### Aufgabe 1 / Task 1\n",
    "\n",
    "<table>\n",
    "    <tr style = \"background: transparent;\">\n",
    "        <td style = \"text-align: justify;\">Im Folgenden wurde der Pfad mithilfe von Splines erstellt. Wie Sie aus dem Skript bereits festgestellt haben, gibt es verschiedene Bedingungen, die den Verlauf der Splines beeinflussen.</td>\n",
    "        <td style = \"text-align: justify; vertical-align: top; width: 50%;\">In the following, the path was created using splines. As you have already seen from the script, there are several conditions that affect the path of the splines.</td>  \n",
    "    </tr>\n",
    "</table>\n",
    "\n",
    "<table>\n",
    "    <tr style = \"background: transparent;\">\n",
    "        <td style = \"text-align: justify; vertical-align: top;\"><b>a).</b> Den Pfad anhand der Spline Interpolation finden Sie in <b>\"spline_path.csv\"</b>, rufen Sie diese auf und lesen Sie dort die zur Verfügung stehenden Daten ein. Versichern Sie sich erst, um welche Daten es sich hierbei handelt. Stellen Sie diese anschließend graphisch dar und versuchen Sie in einem nächsten Schritt den Pfad mit einer geeigneten Spline Interpolation zu reproduzieren. Schreiben Sie hierfür einen Code.</td>\n",
    "        <td style = \"text-align: justify; vertical-align: top; width: 50%;\"><b>a).</b>The path using spline interpolation can be found in <b>\"spline_path.csv\"</b>, call it up and read in the available data there. First make sure which data is involved. Then display it graphically and try to reproduce the path with a suitable spline interpolation in the next step. Write a code for this.</td>  \n",
    "    </tr>\n",
    "</table>\n"
   ]
  },
  {
   "cell_type": "code",
   "execution_count": 10,
   "metadata": {},
   "outputs": [],
   "source": [
    "# Daten einlesen und nennen Sie sie \"df1\"/ read in the data qnd call them \"df1\"\n",
    "# Nutzen Sie hierfür / use \"pd.read_csv('...csv')\"\n",
    "\n",
    "#Ihr Code / Your code:\n",
    "\n",
    "\n",
    "\n",
    "#Schauen Sie sich an auf welche Art die Daten eingelesen wurden. / Take a look at how the data was read in.\n",
    "\n",
    "df1"
   ]
  },
  {
   "cell_type": "code",
   "execution_count": 11,
   "metadata": {},
   "outputs": [],
   "source": [
    "#Nachdem Sie wissen wie die Daten gespeichert sind, trennen Sie sie richtig, wandeln sie in numpy.arrays um und weisen Sie ihnen Variablen zu.\n",
    "\n",
    "df1array = df1.values.tolist()\n",
    "npdf1= np.asarray(df1)\n",
    "\n",
    "\n",
    "\n",
    "#Plotten Sie diese Ihnen bekannten Mittelpunkte ebenfalls. / Plot the middle points you are already familiar with as well.\n",
    "\n",
    "x_in = np.array([ 2.  ,  4.25,  5.25,  7.81,  9.2 , 10.6 ])\n",
    "y_in = np.array([7.2, 7.1, 6. , 5. , 3.5, 5. ])\n",
    "\n",
    "#plt.plot(... , ... , x_in, y_in, 'o')\n"
   ]
  },
  {
   "cell_type": "code",
   "execution_count": 9,
   "metadata": {},
   "outputs": [],
   "source": [
    "#Versuchen Sie nun eine geeignete Bedingung für die Koordinaten x_in und y_in zu finden, um den Pfad wie den darüberliegenden aussehen zu lassen.\n",
    "#Now try to find a suitable condition for the x_in and y_in coordinates to make the path look like the one above.\n",
    "\n"
   ]
  }
 ],
 "metadata": {
  "kernelspec": {
   "display_name": "Python 3",
   "language": "python",
   "name": "python3"
  },
  "language_info": {
   "codemirror_mode": {
    "name": "ipython",
    "version": 3
   },
   "file_extension": ".py",
   "mimetype": "text/x-python",
   "name": "python",
   "nbconvert_exporter": "python",
   "pygments_lexer": "ipython3",
   "version": "3.7.4"
  }
 },
 "nbformat": 4,
 "nbformat_minor": 2
}
